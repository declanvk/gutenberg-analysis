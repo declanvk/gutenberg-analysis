{
 "cells": [
  {
   "cell_type": "code",
   "execution_count": 21,
   "metadata": {},
   "outputs": [],
   "source": [
    "import matplotlib.pyplot as plt\n",
    "import pandas as pd\n",
    "import numpy as np\n",
    "\n",
    "from pathlib import Path\n",
    "from os import listdir"
   ]
  },
  {
   "cell_type": "code",
   "execution_count": 22,
   "metadata": {},
   "outputs": [
    {
     "data": {
      "text/plain": [
       "PosixPath('/Users/Isaac/csc369/gutenberg-analysis/analysis/../data/spark')"
      ]
     },
     "execution_count": 22,
     "metadata": {},
     "output_type": "execute_result"
    }
   ],
   "source": [
    "data_folder = Path.cwd() / '../data/spark'\n",
    "data_folder"
   ]
  },
  {
   "cell_type": "code",
   "execution_count": 23,
   "metadata": {},
   "outputs": [
    {
     "data": {
      "text/plain": [
       "['run-1521229785',\n",
       " 'run-1521232008',\n",
       " 'run-1521232052',\n",
       " 'run-1521232097',\n",
       " 'run-1521232138',\n",
       " 'run-1521232177',\n",
       " 'run-1521232214',\n",
       " 'run-1521232252',\n",
       " 'run-1521232289',\n",
       " 'run-1521232328',\n",
       " 'run-1521232364',\n",
       " 'run-1521232401',\n",
       " 'run-1521232441',\n",
       " 'run-1521232478',\n",
       " 'run-1521232517',\n",
       " 'run-1521232567',\n",
       " 'run-1521232608',\n",
       " 'run-1521232646',\n",
       " 'run-1521232682',\n",
       " 'run-1521232718',\n",
       " 'run-1521232757',\n",
       " 'run-1521232796',\n",
       " 'run-1521232835',\n",
       " 'run-1521232874',\n",
       " 'run-1521232919',\n",
       " 'run-1521232968',\n",
       " 'run-1521233010',\n",
       " 'run-1521233054',\n",
       " 'run-1521233094',\n",
       " 'run-1521233133',\n",
       " 'run-1521233171',\n",
       " 'run-1521233209',\n",
       " 'run-1521233245',\n",
       " 'run-1521233279',\n",
       " 'run-1521233315',\n",
       " 'run-1521233354',\n",
       " 'run-1521233402',\n",
       " 'run-1521233449',\n",
       " 'run-1521233489',\n",
       " 'run-1521233530',\n",
       " 'run-1521233572',\n",
       " 'run-1521233607',\n",
       " 'run-1521233650',\n",
       " 'run-1521233692',\n",
       " 'run-1521233740',\n",
       " 'run-1521233787',\n",
       " 'run-1521233838',\n",
       " 'run-1521233880',\n",
       " 'run-1521233923',\n",
       " 'run-1521233961',\n",
       " 'run-1521233996']"
      ]
     },
     "execution_count": 23,
     "metadata": {},
     "output_type": "execute_result"
    }
   ],
   "source": [
    "listdir(data_folder)"
   ]
  },
  {
   "cell_type": "code",
   "execution_count": 28,
   "metadata": {},
   "outputs": [],
   "source": [
    "averageUniqueWords = []\n",
    "for run in listdir(data_folder):\n",
    "    count = 0\n",
    "    total = 0\n",
    "    with open (data_folder / run / \"uniqueWordsCounts/part-00000\") as f:\n",
    "        for line in f:\n",
    "            total += int(line)\n",
    "            count += 1\n",
    "    averageUniqueWords.append(total/count)"
   ]
  },
  {
   "cell_type": "code",
   "execution_count": 29,
   "metadata": {},
   "outputs": [
    {
     "data": {
      "text/plain": [
       "(array([ 1.,  5., 14., 22., 35., 32., 21., 14.,  6.,  1.]),\n",
       " array([4233.28 , 4422.554, 4611.828, 4801.102, 4990.376, 5179.65 ,\n",
       "        5368.924, 5558.198, 5747.472, 5936.746, 6126.02 ]),\n",
       " <a list of 10 Patch objects>)"
      ]
     },
     "execution_count": 29,
     "metadata": {},
     "output_type": "execute_result"
    },
    {
     "data": {
      "image/png": "[encoded data removed]",
      "text/plain": [
       "<Figure size 432x288 with 1 Axes>"
      ]
     },
     "metadata": {},
     "output_type": "display_data"
    }
   ],
   "source": [
    "plt.hist(averageUniqueWords)"
   ]
  },
  {
   "cell_type": "code",
   "execution_count": 37,
   "metadata": {},
   "outputs": [
    {
     "data": {
      "text/plain": [
       "5175.28265368921"
      ]
     },
     "execution_count": 37,
     "metadata": {},
     "output_type": "execute_result"
    }
   ],
   "source": [
    "m = sum(averageUniqueWords)/len(averageUniqueWords)\n",
    "m"
   ]
  },
  {
   "cell_type": "code",
   "execution_count": 38,
   "metadata": {},
   "outputs": [
    {
     "data": {
      "text/plain": [
       "197.0068104425833"
      ]
     },
     "execution_count": 38,
     "metadata": {},
     "output_type": "execute_result"
    }
   ],
   "source": [
    "sd = (sum(abs(x - m) for x in averageUniqueWords)/len(averageUniqueWords))**.5\n",
    "sd = sd * (len(averageUniqueWords) ** .5)\n",
    "sd"
   ]
  },
  {
   "cell_type": "code",
   "execution_count": null,
   "metadata": {},
   "outputs": [],
   "source": []
  }
 ],
 "metadata": {
  "kernelspec": {
   "display_name": "Python 3",
   "language": "python",
   "name": "python3"
  },
  "language_info": {
   "codemirror_mode": {
    "name": "ipython",
    "version": 3
   },
   "file_extension": ".py",
   "mimetype": "text/x-python",
   "name": "python",
   "nbconvert_exporter": "python",
   "pygments_lexer": "ipython3",
   "version": "3.6.4"
  }
 },
 "nbformat": 4,
 "nbformat_minor": 2
}
