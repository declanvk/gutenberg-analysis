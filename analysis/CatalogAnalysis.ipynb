{
 "cells": [
  {
   "cell_type": "code",
   "execution_count": 1,
   "metadata": {},
   "outputs": [],
   "source": [
    "import matplotlib.pyplot as plt\n",
    "import pandas as pd\n",
    "import numpy as np\n",
    "\n",
    "from pathlib import Path"
   ]
  },
  {
   "cell_type": "markdown",
   "metadata": {},
   "source": [
    "`Path.cwd()` will default to the top of the project directory, if the JupyterLab server was started from there."
   ]
  },
  {
   "cell_type": "code",
   "execution_count": 4,
   "metadata": {},
   "outputs": [],
   "source": [
    "data_folder = Path.cwd() / '..' / 'data'\n",
    "catalog_folder = data_folder / 'catalog'\n",
    "catalog_file = catalog_folder / 'full.csv'\n",
    "\n",
    "output_file = data_folder / 'eligible_works.txt'"
   ]
  },
  {
   "cell_type": "code",
   "execution_count": 5,
   "metadata": {},
   "outputs": [],
   "source": [
    "catalog = pd.read_csv(catalog_file)"
   ]
  },
  {
   "cell_type": "markdown",
   "metadata": {},
   "source": [
    "Convert text columns into useful types"
   ]
  },
  {
   "cell_type": "code",
   "execution_count": 6,
   "metadata": {},
   "outputs": [],
   "source": [
    "catalog.title = catalog.title.str.replace(\"(\\r\\n|\\n)\", \": \") # remove unnecessary newlines\n",
    "catalog.published = pd.to_datetime(catalog.published) # convert to datetime objects\n",
    "catalog.language = catalog.language.astype('category') # convert to categories\n",
    "catalog.book = catalog.book.str.split('/').str.get(-1).astype('int64') # extract id number and convert to integer"
   ]
  },
  {
   "cell_type": "code",
   "execution_count": 7,
   "metadata": {},
   "outputs": [
    {
     "data": {
      "text/html": [
       "<div>\n",
       "<style scoped>\n",
       "    .dataframe tbody tr th:only-of-type {\n",
       "        vertical-align: middle;\n",
       "    }\n",
       "\n",
       "    .dataframe tbody tr th {\n",
       "        vertical-align: top;\n",
       "    }\n",
       "\n",
       "    .dataframe thead th {\n",
       "        text-align: right;\n",
       "    }\n",
       "</style>\n",
       "<table border=\"1\" class=\"dataframe\">\n",
       "  <thead>\n",
       "    <tr style=\"text-align: right;\">\n",
       "      <th></th>\n",
       "      <th>book</th>\n",
       "      <th>title</th>\n",
       "      <th>published</th>\n",
       "      <th>language</th>\n",
       "      <th>author</th>\n",
       "      <th>subject</th>\n",
       "    </tr>\n",
       "  </thead>\n",
       "  <tbody>\n",
       "    <tr>\n",
       "      <th>0</th>\n",
       "      <td>5356</td>\n",
       "      <td>The Inside of the Cup — Volume 01</td>\n",
       "      <td>2004-10-17</td>\n",
       "      <td>en</td>\n",
       "      <td>Churchill, Winston</td>\n",
       "      <td>Attitude change -- Fiction</td>\n",
       "    </tr>\n",
       "    <tr>\n",
       "      <th>1</th>\n",
       "      <td>5356</td>\n",
       "      <td>The Inside of the Cup — Volume 01</td>\n",
       "      <td>2004-10-17</td>\n",
       "      <td>en</td>\n",
       "      <td>Churchill, Winston</td>\n",
       "      <td>Christian life -- Fiction</td>\n",
       "    </tr>\n",
       "    <tr>\n",
       "      <th>2</th>\n",
       "      <td>5356</td>\n",
       "      <td>The Inside of the Cup — Volume 01</td>\n",
       "      <td>2004-10-17</td>\n",
       "      <td>en</td>\n",
       "      <td>Churchill, Winston</td>\n",
       "      <td>Christian ethics -- Fiction</td>\n",
       "    </tr>\n",
       "    <tr>\n",
       "      <th>3</th>\n",
       "      <td>5356</td>\n",
       "      <td>The Inside of the Cup — Volume 01</td>\n",
       "      <td>2004-10-17</td>\n",
       "      <td>en</td>\n",
       "      <td>Churchill, Winston</td>\n",
       "      <td>Conscience -- Religious aspects -- Fiction</td>\n",
       "    </tr>\n",
       "    <tr>\n",
       "      <th>4</th>\n",
       "      <td>5356</td>\n",
       "      <td>The Inside of the Cup — Volume 01</td>\n",
       "      <td>2004-10-17</td>\n",
       "      <td>en</td>\n",
       "      <td>Churchill, Winston</td>\n",
       "      <td>PS</td>\n",
       "    </tr>\n",
       "  </tbody>\n",
       "</table>\n",
       "</div>"
      ],
      "text/plain": [
       "   book                              title  published language  \\\n",
       "0  5356  The Inside of the Cup — Volume 01 2004-10-17       en   \n",
       "1  5356  The Inside of the Cup — Volume 01 2004-10-17       en   \n",
       "2  5356  The Inside of the Cup — Volume 01 2004-10-17       en   \n",
       "3  5356  The Inside of the Cup — Volume 01 2004-10-17       en   \n",
       "4  5356  The Inside of the Cup — Volume 01 2004-10-17       en   \n",
       "\n",
       "               author                                     subject  \n",
       "0  Churchill, Winston                  Attitude change -- Fiction  \n",
       "1  Churchill, Winston                   Christian life -- Fiction  \n",
       "2  Churchill, Winston                 Christian ethics -- Fiction  \n",
       "3  Churchill, Winston  Conscience -- Religious aspects -- Fiction  \n",
       "4  Churchill, Winston                                          PS  "
      ]
     },
     "execution_count": 7,
     "metadata": {},
     "output_type": "execute_result"
    }
   ],
   "source": [
    "catalog.head()"
   ]
  },
  {
   "cell_type": "markdown",
   "metadata": {},
   "source": [
    "The catalog dataframe contains many duplicated fields at this point. In particular\n",
    " - `subject` has many values for each book, multiple genres\n",
    " - `author`, can have multiple values when several authors collaborated\n",
    " - `language`, as the book can be translated to different language"
   ]
  },
  {
   "cell_type": "markdown",
   "metadata": {},
   "source": [
    "To extract the duplicated fields, we will put them in separate data frame, all of them indexed by the same `book` field."
   ]
  },
  {
   "cell_type": "code",
   "execution_count": 8,
   "metadata": {},
   "outputs": [],
   "source": [
    "raw_subjects = catalog[['book', 'subject']].drop_duplicates()\n",
    "languages = catalog[['book', 'language']].drop_duplicates()\n",
    "authors = catalog[['book', 'author']].drop_duplicates()\n",
    "works = catalog[['book', 'title', 'published']].drop_duplicates()"
   ]
  },
  {
   "cell_type": "markdown",
   "metadata": {},
   "source": [
    "Another issue that arises is the range of `published` dates. All of the dates are from after 1970, despite the fact that many of the books were created long before that date. It seems the the `published` field is actually tied to the physical publishing of the book, not the creation."
   ]
  },
  {
   "cell_type": "code",
   "execution_count": 11,
   "metadata": {},
   "outputs": [
    {
     "data": {
      "image/png": "[encoded data removed]",
      "text/plain": [
       "<Figure size 432x288 with 1 Axes>"
      ]
     },
     "metadata": {},
     "output_type": "display_data"
    }
   ],
   "source": [
    "fig, ax = plt.subplots()\n",
    "works.published.dt.year.hist(ax=ax, bins=100, bottom=0.1)\n",
    "ax.set_yscale('log')"
   ]
  },
  {
   "cell_type": "markdown",
   "metadata": {},
   "source": [
    "Then instead of trying to predict published date by the text, we will attempt to predict the subject or genre of the work.\n",
    "\n",
    "First we must process the subjects dataframe to extract more relevant information."
   ]
  },
  {
   "cell_type": "code",
   "execution_count": 12,
   "metadata": {},
   "outputs": [],
   "source": [
    "SUBJECT_MAPPINGS = {\n",
    "    'AC': 'Collections, Series, Collected works',\n",
    "    'AE': 'Encyclopedias',\n",
    "    'AG': 'Dictionaries and other general reference works (other than Encyclopedias)',\n",
    "    'AI': 'Indexes',\n",
    "    'AM': 'Museums',\n",
    "    'AN': 'Newspapers',\n",
    "    'AP': 'Periodicals',\n",
    "    'AS': 'Societies, Academies',\n",
    "    'AY': 'Yearbooks, Almanacs, Directories',\n",
    "    'AZ': 'General history of scholarship and learning',\n",
    "    'BC': 'Logic',\n",
    "    'BD': 'Speculative philosophy',\n",
    "    'BF': 'Psychology',\n",
    "    'BH': 'Aesthetics',\n",
    "    'BJ': 'Ethics',\n",
    "    'BL': 'Religions, Mythology, Rationalism, Hinduism',\n",
    "    'BM': 'Judaism',\n",
    "    'BP': 'Islam, Bahai Faith',\n",
    "    'BQ': 'Buddhism',\n",
    "    'BR': 'Christianity',\n",
    "    'BS': 'Bible and exegesis',\n",
    "    'BT': 'Doctrinal theology',\n",
    "    'BV': 'Practical theology',\n",
    "    'BX': 'Christian Denominations',\n",
    "    'CB': 'History of Civilization (General and general special only)',\n",
    "    'CC': 'Archaeology',\n",
    "    'CD': 'Diplomatics, Archives, Seals',\n",
    "    'CE': 'Technical Chronology, Calendar',\n",
    "    'CJ': 'Numismatics (Coins, Tokes, Medals, Medallions)',\n",
    "    'CN': 'Inscriptions, Epigraphy',\n",
    "    'CR': 'Heraldry',\n",
    "    'CS': 'Genealogy',\n",
    "    'CT': 'Biography',\n",
    "    'DA': 'Great Britain',\n",
    "    'DAW': 'Central Europe',\n",
    "    'DB': 'History of Austria, Austro-Hungarian Empire',\n",
    "    'DC': 'France, Andorra, Monaco',\n",
    "    'DD': 'Germany',\n",
    "    'DE': 'Greco-Roman World',\n",
    "    'DF': 'Greece',\n",
    "    'DG': 'Italy – Malta',\n",
    "    'DH': 'Low countries, Benelux Countries (Belgium, Luxembourg)',\n",
    "    'DJ': 'Netherlands (Holland)',\n",
    "    'DJK': 'Eastern Europe (General)',\n",
    "    'DK': 'Russia, Soviet Union, Former Soviet Republics, Poland',\n",
    "    'DL': 'Northern Europe, Scandinavia',\n",
    "    'DP': 'Spain, Portugal',\n",
    "    'DQ': 'Switzerland',\n",
    "    'DR': 'Balkan Peninsula',\n",
    "    'DS': 'Asia',\n",
    "    'DT': 'Africa',\n",
    "    'DU': 'Oceania (South Seas - Australia, New Zealand, Polynesia)',\n",
    "    'DX': 'Gypsies',\n",
    "    'GN': 'Anthropology',\n",
    "    'GR': 'Folklore',\n",
    "    'GT': 'Manners and customs (general)',\n",
    "    'GV': 'Recreation, Leisure',\n",
    "    'HA': 'Statistics',\n",
    "    'HB': 'Economic theory, Demography',\n",
    "    'HC': 'Economic history and conditions',\n",
    "    'HD': 'Industries, Land use, Labor',\n",
    "    'HE': 'Transportation and communications',\n",
    "    'HF': 'Commerce (including tariff)',\n",
    "    'HG': 'Finance ',\n",
    "    'HJ': 'Public Finance',\n",
    "    'HM': 'Sociology (General)',\n",
    "    'HN': 'Social history and conditions, Social problems, Social reform',\n",
    "    'HQ': 'Sexual Life, Family, Marriage, Women',\n",
    "    'HS': 'Societies: secret, benevolent, etc.',\n",
    "    'HT': 'Communities, Classes, Races',\n",
    "    'HV': 'Social Pathology, Social and public welfare, Criminology',\n",
    "    'HX': 'Socialism, Communism, Anarchism',\n",
    "    'JA': 'Political Science (general)',\n",
    "    'JC': 'Political theory',\n",
    "    'JK': 'Polical institutions and public adminsitration - United States',\n",
    "    'JL': 'Political institutions and public adminstration - America outside U.S.',\n",
    "    'JN': 'Political Institutions and public administration – Europe',\n",
    "    'JQ': 'Political institutions and public administration - Asia, Africa, Australia, Oceania',\n",
    "    'JS': 'Local government. Municipal government.',\n",
    "    'JV': 'Colonies and colonization. Emigration and immigration. International migration',\n",
    "    'JX': 'International Law (See also KZ for International Law)',\n",
    "    'JZ': 'International relations',\n",
    "    'KBM': 'Jewish law',\n",
    "    'KBP': 'Isamic law',\n",
    "    'KBR': 'History of canon law',\n",
    "    'KBU': 'Law of the Roman Catholic Church',\n",
    "    'KDZ': 'America. North America',\n",
    "    'KE': 'Canada',\n",
    "    'KF': 'United States',\n",
    "    'KG': 'Latin America, Mexico and Central America, West Indies, Caribbean area',\n",
    "    'KH': 'South America',\n",
    "    'KZ': 'Law of nations',\n",
    "    'LA': 'History of Education',\n",
    "    'LB': 'Theory and practice of education',\n",
    "    'LC': 'Special aspects of education',\n",
    "    'LD': 'Individual institutions - United States',\n",
    "    'LE': 'Individual institutions - America outside of U.S.',\n",
    "    'LF': 'Individual institutions - Europe',\n",
    "    'LG': 'Individual institutions - Asia, Africa, Oceania',\n",
    "    'LH': 'College and school magazines and papers',\n",
    "    'LJ': 'Student fraternities and societies, United States',\n",
    "    'LT': 'Textbooks',\n",
    "    'ML': 'Literature of Music ',\n",
    "    'MT': 'Musical instruction and study',\n",
    "    'NA': 'Architexture',\n",
    "    'NB': 'Sculpture',\n",
    "    'NC': 'Drawing, Design, Illustration',\n",
    "    'ND': 'Painting',\n",
    "    'NE': 'Print Media',\n",
    "    'NK': 'Decorative arts',\n",
    "    'NX': 'Arts in general',\n",
    "    'PA': 'Greek and Latin language and literature',\n",
    "    'PB': 'Modern languages. Celtic languages',\n",
    "    'PC': 'Romantic languages',\n",
    "    'PD': 'Germanic, Scandinavian laguages.',\n",
    "    'PE': 'English language',\n",
    "    'PF': 'West Germanic Languages',\n",
    "    'PG': 'Slavic, Baltic, Albanian languages.',\n",
    "    'PH': 'Uralic, Basque languages ',\n",
    "    'PJ': 'Oriental languages and literatures',\n",
    "    'PK': 'Indo-Iranian languages and literatures',\n",
    "    'PL': 'Languages and literatures of Eastern Asia, Africa, Oceania ',\n",
    "    'PM': 'Hyperborean, Indian, and artificial languages',\n",
    "    'PN': 'Literature - General',\n",
    "    'PQ': 'French, Italian, Spanish, and Portuguese literature',\n",
    "    'PR': 'Engish literature',\n",
    "    'PS': 'American literature',\n",
    "    'PT': 'German literature',\n",
    "    'PZ': 'Fiction and juvenile literature',\n",
    "    'QA': 'Mathematics',\n",
    "    'QB': 'Astronomy',\n",
    "    'QC': 'Physics',\n",
    "    'QD': 'Chemistry',\n",
    "    'QE': 'Geology',\n",
    "    'QH': 'Natural History - Biology ',\n",
    "    'QK': 'Botany',\n",
    "    'QL': 'Zoology',\n",
    "    'QM': 'Human anatomy',\n",
    "    'QP': 'Physiology',\n",
    "    'QR': 'Microbiology',\n",
    "    'RA': 'Public aspects of medicine',\n",
    "    'RB': 'Pathology',\n",
    "    'RC': 'Internal Medicine',\n",
    "    'RD': 'Surgery',\n",
    "    'RE': 'Ophthalmology',\n",
    "    'RF': 'Otorhinolaryngology (Ear, Nose, Throat)',\n",
    "    'RG': 'Gynecology and obstetrics',\n",
    "    'RJ': 'Pediatrics',\n",
    "    'RK': 'Dentistry',\n",
    "    'RL': 'Dermatology',\n",
    "    'RM': 'Therapeutics. Pharmacology',\n",
    "    'RS': 'Pharmacy and materia medica',\n",
    "    'RT': 'Nursing',\n",
    "    'RV': 'Botanic, Thomsonian, and Eclectic Medicine',\n",
    "    'RX': 'Homeopathy',\n",
    "    'RZ': 'Other systems of medicine',\n",
    "    'SB': 'Plant culture',\n",
    "    'SD': 'Forestry',\n",
    "    'SF': 'Animal culture',\n",
    "    'SH': 'Aquaculture. Fisheries, Angling',\n",
    "    'SK': 'Hunting sports',\n",
    "    'TA': 'General engineering',\n",
    "    'TC': 'Hydraulic and ocean engineering.',\n",
    "    'TD': 'Environmental technology, Sanitary engineering',\n",
    "    'TE': 'Highway engineering (roads and pavements)',\n",
    "    'TF': 'Railroad engineering and operation',\n",
    "    'TG': 'Bridge engineering',\n",
    "    'TH': 'Building construction',\n",
    "    'TJ': 'Mechanical engineering and machinery',\n",
    "    'TK': 'Electrical engineering, Electronics, Nuclear engineering',\n",
    "    'TL': 'Motor vehicles, Aeronautics, Astronautics',\n",
    "    'TN': 'Mining engineering, Metallurgy',\n",
    "    'TP': 'Chemical technology',\n",
    "    'TR': 'Photography',\n",
    "    'TS': 'Manufactures',\n",
    "    'TT': 'Handicrafts and Arts & Crafts',\n",
    "    'TX': 'Home economics',\n",
    "    'UA': 'Organization, distrubution, military situation',\n",
    "    'UB': 'Military administration',\n",
    "    'UC': 'Maintenance and transporation',\n",
    "    'UD': 'Infantry',\n",
    "    'UE': 'Cavalry, Armor',\n",
    "    'UF': 'Artillery',\n",
    "    'UG': 'Military engineering',\n",
    "    'UH': 'Other military services',\n",
    "    'VA': 'Navies: Organization, distribution, naval situation',\n",
    "    'VB': 'Naval administration',\n",
    "    'VC': 'Naval maintenance',\n",
    "    'VD': 'Naval seaman',\n",
    "    'VE': 'Marines',\n",
    "    'VF': 'Naval ordinance',\n",
    "    'VG': 'Other naval services',\n",
    "    'VK': 'Navigation, Merchant marine',\n",
    "    'VM': 'Naval architecture and engineering, Shipbuilding',\n",
    "    'ZA': 'Information resources (General)',\n",
    "    'B': 'Philosophy (General)',\n",
    "    'D': 'General History',\n",
    "    'G': 'General Geography, Atlases and Maps',\n",
    "    'J': 'General Legislative and Executive papers',\n",
    "    'K': 'General law. Comparative and uniform law. Jurisprudence ',\n",
    "    'L': 'General works',\n",
    "    'N': 'Visual Arts',\n",
    "    'P': 'Philology. Linguistics',\n",
    "    'Z': 'Books (general) writing, Book industries, Libraries, and Bibliography'\n",
    "}"
   ]
  },
  {
   "cell_type": "markdown",
   "metadata": {},
   "source": [
    "Process the subjects and split heirarchical subjects into component pieces. Then map using the common abbreviations above."
   ]
  },
  {
   "cell_type": "code",
   "execution_count": 13,
   "metadata": {},
   "outputs": [],
   "source": [
    "expanded_subjects = raw_subjects.subject.str.split('\\s+--\\s+', expand=True)\n",
    "expanded_subjects = expanded_subjects.assign(book = raw_subjects.book.values)\n",
    "\n",
    "melted_subjects = expanded_subjects.melt(id_vars=['book'])[['book', 'value']]\n",
    "\n",
    "subjects = melted_subjects.rename(index=str, columns={'value': 'subject'}).dropna().drop_duplicates()\n",
    "subjects.subject = subjects.subject.map(\n",
    "    lambda sub: SUBJECT_MAPPINGS[sub] if sub in SUBJECT_MAPPINGS else sub).astype('category')"
   ]
  },
  {
   "cell_type": "markdown",
   "metadata": {},
   "source": [
    "Count frequency of subjects and create list of 99.5th percentile of common subjects"
   ]
  },
  {
   "cell_type": "code",
   "execution_count": 17,
   "metadata": {},
   "outputs": [],
   "source": [
    "total_subject_count = subjects.subject.value_counts().sum()\n",
    "subject_frequency = subjects.subject.value_counts() / total_subject_count\n",
    "high_prob_subjects = subject_frequency[\n",
    "    subject_frequency > subject_frequency.quantile(.995)].reset_index().rename(index=str, columns={\"index\": \"subject\", \"subject\": \"frequency\"}).subject"
   ]
  },
  {
   "cell_type": "markdown",
   "metadata": {},
   "source": [
    "Only consider works eligible if they are in english and their subjects are in the list of high frequency subjects"
   ]
  },
  {
   "cell_type": "code",
   "execution_count": 11,
   "metadata": {},
   "outputs": [],
   "source": [
    "works_subjects = works.join(subjects.set_index('book'), on='book', how='right').sort_index()\n",
    "en_works = languages[languages.language == 'en'].book\n",
    "eligible_works = works_subjects[\n",
    "    works_subjects.subject.isin(high_prob_subjects) & works_subjects.book.isin(en_works)]"
   ]
  },
  {
   "cell_type": "markdown",
   "metadata": {},
   "source": [
    "Write the book ids that are eligible to file."
   ]
  },
  {
   "cell_type": "code",
   "execution_count": 12,
   "metadata": {},
   "outputs": [],
   "source": [
    "eligible_works_freq = eligible_works.join(\n",
    "    subject_frequency,\n",
    "    on='subject', how='left',\n",
    "    rsuffix='_freq').sort_values(['book', 'subject_freq'], ascending=[True, False])\n",
    "reduced_works = eligible_works_freq.groupby('book').first()\n",
    "\n",
    "reduced_works.to_csv(output_file)"
   ]
  }
 ],
 "metadata": {
  "kernelspec": {
   "display_name": "Python 3",
   "language": "python",
   "name": "python3"
  },
  "language_info": {
   "codemirror_mode": {
    "name": "ipython",
    "version": 3
   },
   "file_extension": ".py",
   "mimetype": "text/x-python",
   "name": "python",
   "nbconvert_exporter": "python",
   "pygments_lexer": "ipython3",
   "version": "3.6.4"
  }
 },
 "nbformat": 4,
 "nbformat_minor": 2
}
