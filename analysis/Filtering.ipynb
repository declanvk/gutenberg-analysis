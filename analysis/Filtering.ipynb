{
 "cells": [
  {
   "cell_type": "markdown",
   "metadata": {},
   "source": [
    "# Filtering the 35000 Text Files"
   ]
  },
  {
   "cell_type": "code",
   "execution_count": 5,
   "metadata": {},
   "outputs": [],
   "source": [
    "import matplotlib.pyplot as plt\n",
    "import pandas as pd\n",
    "import numpy as np\n",
    "\n",
    "from pathlib import Path\n",
    "from os import listdir"
   ]
  },
  {
   "cell_type": "markdown",
   "metadata": {},
   "source": [
    "## Distribution of the Unique Word Count in all Texts"
   ]
  },
  {
   "cell_type": "markdown",
   "metadata": {},
   "source": [
    "The first step was to retrieve the unique word count for each of the texts. We did this step in scala and saved it to a file."
   ]
  },
  {
   "cell_type": "code",
   "execution_count": 53,
   "metadata": {},
   "outputs": [
    {
     "data": {
      "text/plain": [
       "(array([6.791e+03, 5.869e+03, 5.692e+03, 5.604e+03, 4.375e+03, 2.991e+03,\n",
       "        1.709e+03, 9.690e+02, 5.920e+02, 2.700e+02, 1.540e+02, 1.140e+02,\n",
       "        6.500e+01, 2.700e+01, 2.900e+01, 1.400e+01, 1.300e+01, 1.800e+01,\n",
       "        1.000e+01, 1.300e+01, 8.000e+00, 9.000e+00, 3.000e+00, 5.000e+00,\n",
       "        4.000e+00, 1.000e+00, 3.000e+00, 0.000e+00, 3.000e+00, 0.000e+00,\n",
       "        1.000e+00, 2.000e+00, 0.000e+00, 0.000e+00, 0.000e+00, 0.000e+00,\n",
       "        0.000e+00, 0.000e+00, 0.000e+00, 1.000e+00, 0.000e+00, 0.000e+00,\n",
       "        0.000e+00, 0.000e+00, 0.000e+00, 0.000e+00, 0.000e+00, 0.000e+00,\n",
       "        0.000e+00, 0.000e+00, 0.000e+00, 0.000e+00, 0.000e+00, 0.000e+00,\n",
       "        0.000e+00, 0.000e+00, 0.000e+00, 0.000e+00, 0.000e+00, 0.000e+00,\n",
       "        0.000e+00, 0.000e+00, 1.000e+00, 0.000e+00, 0.000e+00, 0.000e+00,\n",
       "        0.000e+00, 0.000e+00, 0.000e+00, 0.000e+00, 0.000e+00, 0.000e+00,\n",
       "        0.000e+00, 0.000e+00, 0.000e+00, 0.000e+00, 0.000e+00, 0.000e+00,\n",
       "        0.000e+00, 0.000e+00, 0.000e+00, 0.000e+00, 0.000e+00, 0.000e+00,\n",
       "        0.000e+00, 0.000e+00, 0.000e+00, 0.000e+00, 0.000e+00, 0.000e+00,\n",
       "        0.000e+00, 0.000e+00, 0.000e+00, 0.000e+00, 0.000e+00, 0.000e+00,\n",
       "        0.000e+00, 0.000e+00, 1.000e+00, 1.000e+00]),\n",
       " array([    0.  ,   611.55,  1223.1 ,  1834.65,  2446.2 ,  3057.75,\n",
       "         3669.3 ,  4280.85,  4892.4 ,  5503.95,  6115.5 ,  6727.05,\n",
       "         7338.6 ,  7950.15,  8561.7 ,  9173.25,  9784.8 , 10396.35,\n",
       "        11007.9 , 11619.45, 12231.  , 12842.55, 13454.1 , 14065.65,\n",
       "        14677.2 , 15288.75, 15900.3 , 16511.85, 17123.4 , 17734.95,\n",
       "        18346.5 , 18958.05, 19569.6 , 20181.15, 20792.7 , 21404.25,\n",
       "        22015.8 , 22627.35, 23238.9 , 23850.45, 24462.  , 25073.55,\n",
       "        25685.1 , 26296.65, 26908.2 , 27519.75, 28131.3 , 28742.85,\n",
       "        29354.4 , 29965.95, 30577.5 , 31189.05, 31800.6 , 32412.15,\n",
       "        33023.7 , 33635.25, 34246.8 , 34858.35, 35469.9 , 36081.45,\n",
       "        36693.  , 37304.55, 37916.1 , 38527.65, 39139.2 , 39750.75,\n",
       "        40362.3 , 40973.85, 41585.4 , 42196.95, 42808.5 , 43420.05,\n",
       "        44031.6 , 44643.15, 45254.7 , 45866.25, 46477.8 , 47089.35,\n",
       "        47700.9 , 48312.45, 48924.  , 49535.55, 50147.1 , 50758.65,\n",
       "        51370.2 , 51981.75, 52593.3 , 53204.85, 53816.4 , 54427.95,\n",
       "        55039.5 , 55651.05, 56262.6 , 56874.15, 57485.7 , 58097.25,\n",
       "        58708.8 , 59320.35, 59931.9 , 60543.45, 61155.  ]),\n",
       " <a list of 100 Patch objects>)"
      ]
     },
     "execution_count": 53,
     "metadata": {},
     "output_type": "execute_result"
    },
    {
     "data": {
      "image/png": "[encoded data removed]",
      "text/plain": [
       "<Figure size 432x288 with 1 Axes>"
      ]
     },
     "metadata": {},
     "output_type": "display_data"
    }
   ],
   "source": [
    "uniques = []\n",
    "file = open(Path.cwd() / '../data/spark/uniqueWordCounts.txt', 'r')\n",
    "\n",
    "for line in file:\n",
    "    uniques.append(int(line.split(\" \", 2)[1]))\n",
    "    \n",
    "file.close()\n",
    "plt.hist(uniques, bins = 100)"
   ]
  },
  {
   "cell_type": "markdown",
   "metadata": {},
   "source": [
    "## Distribution of Unique Word Counts Filtered Within 10 Standard Deviation of the Mean"
   ]
  },
  {
   "cell_type": "markdown",
   "metadata": {},
   "source": [
    "Our first idea for filtering was to filter based on the mean of the unique number of words in each text file. However, the data is so skewed that even after allowing 10 standard deviations through, only aproximately 3000 texts made it through and they were uniformly distributed."
   ]
  },
  {
   "cell_type": "code",
   "execution_count": 57,
   "metadata": {},
   "outputs": [
    {
     "data": {
      "text/plain": [
       "(array([64., 63., 57., 67., 56., 76., 69., 71., 57., 84., 84., 66., 75.,\n",
       "        71., 57., 58., 59., 73., 63., 81., 76., 68., 63., 72., 63., 75.,\n",
       "        52., 66., 69., 52., 63., 66., 58., 57., 66., 55., 76., 69., 68.,\n",
       "        67., 64., 57., 70., 75., 65., 50., 71., 61., 52., 61., 74., 53.,\n",
       "        59., 69., 61., 73., 72., 67., 64., 66., 77., 58., 47., 46., 64.,\n",
       "        66., 73., 80., 64., 71., 57., 62., 60., 71., 49., 63., 73., 72.,\n",
       "        60., 64., 67., 76., 47., 48., 78., 76., 49., 50., 52., 70., 74.,\n",
       "        45., 68., 58., 59., 61., 64., 58., 67., 72.]),\n",
       " array([1646.  , 1652.76, 1659.52, 1666.28, 1673.04, 1679.8 , 1686.56,\n",
       "        1693.32, 1700.08, 1706.84, 1713.6 , 1720.36, 1727.12, 1733.88,\n",
       "        1740.64, 1747.4 , 1754.16, 1760.92, 1767.68, 1774.44, 1781.2 ,\n",
       "        1787.96, 1794.72, 1801.48, 1808.24, 1815.  , 1821.76, 1828.52,\n",
       "        1835.28, 1842.04, 1848.8 , 1855.56, 1862.32, 1869.08, 1875.84,\n",
       "        1882.6 , 1889.36, 1896.12, 1902.88, 1909.64, 1916.4 , 1923.16,\n",
       "        1929.92, 1936.68, 1943.44, 1950.2 , 1956.96, 1963.72, 1970.48,\n",
       "        1977.24, 1984.  , 1990.76, 1997.52, 2004.28, 2011.04, 2017.8 ,\n",
       "        2024.56, 2031.32, 2038.08, 2044.84, 2051.6 , 2058.36, 2065.12,\n",
       "        2071.88, 2078.64, 2085.4 , 2092.16, 2098.92, 2105.68, 2112.44,\n",
       "        2119.2 , 2125.96, 2132.72, 2139.48, 2146.24, 2153.  , 2159.76,\n",
       "        2166.52, 2173.28, 2180.04, 2186.8 , 2193.56, 2200.32, 2207.08,\n",
       "        2213.84, 2220.6 , 2227.36, 2234.12, 2240.88, 2247.64, 2254.4 ,\n",
       "        2261.16, 2267.92, 2274.68, 2281.44, 2288.2 , 2294.96, 2301.72,\n",
       "        2308.48, 2315.24, 2322.  ]),\n",
       " <a list of 100 Patch objects>)"
      ]
     },
     "execution_count": 57,
     "metadata": {},
     "output_type": "execute_result"
    },
    {
     "data": {
      "image/png": "[encoded data removed]",
      "text/plain": [
       "<Figure size 432x288 with 1 Axes>"
      ]
     },
     "metadata": {},
     "output_type": "display_data"
    }
   ],
   "source": [
    "mean = sum(uniques)/len(uniques)\n",
    "sd = (sum([abs(x - mean) for x in uniques])/len(uniques)) ** .5\n",
    "\n",
    "top = mean + sd * 10\n",
    "bot = mean - sd * 10\n",
    "\n",
    "filtered_by_mean = [x for x in uniques if (x < top and x > bot)]\n",
    "\n",
    "plt.hist(filtered_by_mean, bins = 100)"
   ]
  },
  {
   "cell_type": "markdown",
   "metadata": {},
   "source": [
    "## Distribution of Unique Word Counts Filtered Visually"
   ]
  },
  {
   "cell_type": "markdown",
   "metadata": {},
   "source": [
    "After deciding that filtering based on the mean would not work, we decided to filter visually by looking at bin counts in the original distribution. After trying a few different sized filters we settled on capping the unique word count at 8000 and requiring a minimum unique word count of 1500."
   ]
  },
  {
   "cell_type": "code",
   "execution_count": 52,
   "metadata": {},
   "outputs": [
    {
     "data": {
      "text/plain": [
       "(array([647., 638., 622., 659., 660., 584., 647., 598., 605., 639., 608.,\n",
       "        578., 581., 517., 537., 562., 472., 512., 449., 455., 454., 460.,\n",
       "        397., 419., 387., 365., 358., 327., 312., 317., 274., 283., 269.,\n",
       "        236., 244., 199., 181., 191., 187., 172., 151., 142., 120., 128.,\n",
       "        104., 102., 107.,  88.,  90., 108., 105.,  88.,  79.,  81.,  72.,\n",
       "         66.,  73.,  66.,  61.,  54.,  41.,  40.,  46.,  34.,  33.,  23.,\n",
       "         22.,  30.,  23.,  16.,  25.,  20.,  13.,  28.,  15.,  21.,  10.,\n",
       "         17.,  13.,  14.,  15.,  18.,  15.,  17.,  14.,   9.,  11.,   8.,\n",
       "          6.,   6.,   4.,   9.,   8.,   5.,   5.,  10.,   5.,   8.,  10.,\n",
       "          7.]),\n",
       " array([1501.  , 1565.91, 1630.82, 1695.73, 1760.64, 1825.55, 1890.46,\n",
       "        1955.37, 2020.28, 2085.19, 2150.1 , 2215.01, 2279.92, 2344.83,\n",
       "        2409.74, 2474.65, 2539.56, 2604.47, 2669.38, 2734.29, 2799.2 ,\n",
       "        2864.11, 2929.02, 2993.93, 3058.84, 3123.75, 3188.66, 3253.57,\n",
       "        3318.48, 3383.39, 3448.3 , 3513.21, 3578.12, 3643.03, 3707.94,\n",
       "        3772.85, 3837.76, 3902.67, 3967.58, 4032.49, 4097.4 , 4162.31,\n",
       "        4227.22, 4292.13, 4357.04, 4421.95, 4486.86, 4551.77, 4616.68,\n",
       "        4681.59, 4746.5 , 4811.41, 4876.32, 4941.23, 5006.14, 5071.05,\n",
       "        5135.96, 5200.87, 5265.78, 5330.69, 5395.6 , 5460.51, 5525.42,\n",
       "        5590.33, 5655.24, 5720.15, 5785.06, 5849.97, 5914.88, 5979.79,\n",
       "        6044.7 , 6109.61, 6174.52, 6239.43, 6304.34, 6369.25, 6434.16,\n",
       "        6499.07, 6563.98, 6628.89, 6693.8 , 6758.71, 6823.62, 6888.53,\n",
       "        6953.44, 7018.35, 7083.26, 7148.17, 7213.08, 7277.99, 7342.9 ,\n",
       "        7407.81, 7472.72, 7537.63, 7602.54, 7667.45, 7732.36, 7797.27,\n",
       "        7862.18, 7927.09, 7992.  ]),\n",
       " <a list of 100 Patch objects>)"
      ]
     },
     "execution_count": 52,
     "metadata": {},
     "output_type": "execute_result"
    },
    {
     "data": {
      "image/png": "[encoded data removed]",
      "text/plain": [
       "<Figure size 432x288 with 1 Axes>"
      ]
     },
     "metadata": {},
     "output_type": "display_data"
    }
   ],
   "source": [
    "F = open(Path.cwd() / '../data/filtered_texts_listing.txt')\n",
    "filtered_visually = [x for x in uniques if (x < 8000 and x > 1500)]\n",
    "    \n",
    "plt.hist(filtered_visually, bins = 100)"
   ]
  },
  {
   "cell_type": "markdown",
   "metadata": {},
   "source": [
    "## Conclusion\n",
    "\n",
    "With our final filtering we reduced the number of files from arround 35000 to arround 20000."
   ]
  },
  {
   "cell_type": "code",
   "execution_count": null,
   "metadata": {},
   "outputs": [],
   "source": []
  }
 ],
 "metadata": {
  "kernelspec": {
   "display_name": "Python 3",
   "language": "python",
   "name": "python3"
  },
  "language_info": {
   "codemirror_mode": {
    "name": "ipython",
    "version": 3
   },
   "file_extension": ".py",
   "mimetype": "text/x-python",
   "name": "python",
   "nbconvert_exporter": "python",
   "pygments_lexer": "ipython3",
   "version": "3.6.4"
  }
 },
 "nbformat": 4,
 "nbformat_minor": 2
}
